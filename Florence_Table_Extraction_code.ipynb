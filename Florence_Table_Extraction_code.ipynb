{
  "nbformat": 4,
  "nbformat_minor": 0,
  "metadata": {
    "colab": {
      "provenance": [],
      "gpuType": "T4"
    },
    "kernelspec": {
      "name": "python3",
      "display_name": "Python 3"
    },
    "language_info": {
      "name": "python"
    },
    "accelerator": "GPU"
  },
  "cells": [
    {
      "cell_type": "markdown",
      "source": [
        "# Florence-2 for Table Extraction\n",
        "\n",
        "Fine-tuned Florence-2 model: https://huggingface.co/ucsahin/Florence-2-large-TableDetection"
      ],
      "metadata": {
        "id": "gMZoLdKruxAF"
      }
    },
    {
      "cell_type": "markdown",
      "source": [
        "This model is a fine-tuned version of __Florence-2-large-ft__ on __ucsahin/pubtables-detection-1500-samples__ dataset."
      ],
      "metadata": {
        "id": "5rKL3LVxvG5R"
      }
    },
    {
      "cell_type": "markdown",
      "source": [
        "## System setup"
      ],
      "metadata": {
        "id": "iQb7nkRq18VT"
      }
    },
    {
      "cell_type": "code",
      "execution_count": null,
      "metadata": {
        "id": "h6MkiyC2nOoj"
      },
      "outputs": [],
      "source": [
        "!pip install accelerate\n",
        "!pip install flash_attn einops timm"
      ]
    },
    {
      "cell_type": "code",
      "source": [
        "from PIL import Image\n",
        "import matplotlib.pyplot as plt\n",
        "import matplotlib.patches as patches\n",
        "from transformers import AutoProcessor, AutoModelForCausalLM"
      ],
      "metadata": {
        "id": "5U59dK8inVSy"
      },
      "execution_count": null,
      "outputs": []
    },
    {
      "cell_type": "markdown",
      "source": [
        "## Load fine-tuned Florence-2 model"
      ],
      "metadata": {
        "id": "NWvo_ngl13C5"
      }
    },
    {
      "cell_type": "code",
      "source": [
        "model_id = \"ucsahin/Florence-2-large-TableDetection\"\n",
        "\n",
        "model = AutoModelForCausalLM.from_pretrained(model_id,\n",
        "                                             trust_remote_code=True,\n",
        "                                             device_map=\"cuda\") # load the model on GPU\n",
        "\n",
        "processor = AutoProcessor.from_pretrained(model_id,\n",
        "                                          trust_remote_code=True)"
      ],
      "metadata": {
        "id": "I9QhSx-Qng_y"
      },
      "execution_count": null,
      "outputs": []
    },
    {
      "cell_type": "markdown",
      "source": [
        "## Function to detect tables in images"
      ],
      "metadata": {
        "id": "sH4I7hAs2ATZ"
      }
    },
    {
      "cell_type": "code",
      "source": [
        "def run_example(task_prompt, image, max_new_tokens=256):\n",
        "    prompt = task_prompt\n",
        "    inputs = processor(text=prompt, images=image, return_tensors=\"pt\")\n",
        "    generated_ids = model.generate(\n",
        "      input_ids=inputs[\"input_ids\"].cuda(),\n",
        "      pixel_values=inputs[\"pixel_values\"].cuda(),\n",
        "      max_new_tokens=max_new_tokens,\n",
        "      early_stopping=False,\n",
        "      do_sample=False,\n",
        "      num_beams=3,\n",
        "    )\n",
        "    generated_text = processor.batch_decode(generated_ids, skip_special_tokens=False)[0]\n",
        "    parsed_answer = processor.post_process_generation(\n",
        "        generated_text,\n",
        "        task=task_prompt,\n",
        "        image_size=(image.width, image.height)\n",
        "    )\n",
        "    return parsed_answer"
      ],
      "metadata": {
        "id": "cqKW-Anin2Us"
      },
      "execution_count": null,
      "outputs": []
    },
    {
      "cell_type": "markdown",
      "source": [
        "## Function to plot bounding boxes around tables"
      ],
      "metadata": {
        "id": "HR0HeFHf2GA4"
      }
    },
    {
      "cell_type": "code",
      "source": [
        "def plot_bbox(image, data):\n",
        "  # Create a figure and axes\n",
        "  fig, ax = plt.subplots(figsize=(12, 10))\n",
        "  # Display the image\n",
        "  ax.imshow(image)\n",
        "  # Plot each bounding box\n",
        "  for bbox, label in zip(data['bboxes'], data['labels']):\n",
        "      # Unpack the bounding box coordinates\n",
        "      x1, y1, x2, y2 = bbox\n",
        "      # Create a Rectangle patch\n",
        "      rect = patches.Rectangle((x1, y1), x2-x1, y2-y1, linewidth=1, edgecolor='r', facecolor='none')\n",
        "      # Add the rectangle to the Axes\n",
        "      ax.add_patch(rect)\n",
        "      # Annotate the label\n",
        "      plt.text(x1, y1, label, color='white', fontsize=8, bbox=dict(facecolor='red', alpha=0.5))\n",
        "  # Remove the axis ticks and labels\n",
        "  ax.axis('off')\n",
        "  # Show the plot\n",
        "  plt.show()"
      ],
      "metadata": {
        "id": "WW8W7Ii2oHx8"
      },
      "execution_count": null,
      "outputs": []
    },
    {
      "cell_type": "markdown",
      "source": [
        "## Detect tables in images"
      ],
      "metadata": {
        "id": "LKqQ3eKx2M_v"
      }
    },
    {
      "cell_type": "code",
      "source": [
        "# load an image\n",
        "image = Image.open(\"scanned_doc_1.png\")"
      ],
      "metadata": {
        "id": "X8mhvtTGp5mc"
      },
      "execution_count": null,
      "outputs": []
    },
    {
      "cell_type": "code",
      "source": [
        "image"
      ],
      "metadata": {
        "id": "uc7ARQ9jDlgd"
      },
      "execution_count": null,
      "outputs": []
    },
    {
      "cell_type": "code",
      "source": [
        "# detect table in the input image\n",
        "parsed_answer = run_example(\"<OD>\", image=image)"
      ],
      "metadata": {
        "id": "0V6pqOZ3p1xu"
      },
      "execution_count": null,
      "outputs": []
    },
    {
      "cell_type": "code",
      "source": [
        "# plot bounding box\n",
        "plot_bbox(image, parsed_answer[\"<OD>\"])"
      ],
      "metadata": {
        "id": "6Stg-ybkp1pF"
      },
      "execution_count": null,
      "outputs": []
    },
    {
      "cell_type": "code",
      "source": [
        "# load an image\n",
        "image2 = Image.open(\"scanned_doc_2.png\")\n",
        "\n",
        "image2"
      ],
      "metadata": {
        "id": "ZQ-gC197EHS7"
      },
      "execution_count": null,
      "outputs": []
    },
    {
      "cell_type": "code",
      "source": [
        "parsed_answer2 = run_example(\"<OD>\", image=image2)\n",
        "plot_bbox(image2, parsed_answer2[\"<OD>\"])"
      ],
      "metadata": {
        "id": "-I30zkHFp1ka"
      },
      "execution_count": null,
      "outputs": []
    },
    {
      "cell_type": "markdown",
      "source": [
        "\n",
        "## Crop detected tables"
      ],
      "metadata": {
        "id": "p2zFK9o92kew"
      }
    },
    {
      "cell_type": "code",
      "source": [
        "parsed_answer2[\"<OD>\"]"
      ],
      "metadata": {
        "id": "g6g2SoUDsJQ5"
      },
      "execution_count": null,
      "outputs": []
    },
    {
      "cell_type": "code",
      "source": [
        "parsed_answer2[\"<OD>\"]['bboxes'][0]"
      ],
      "metadata": {
        "id": "B_abWfRSEgGR"
      },
      "execution_count": null,
      "outputs": []
    },
    {
      "cell_type": "code",
      "source": [
        "# Ensure coordinates are integers\n",
        "left, top, right, bottom = map(int, parsed_answer2[\"<OD>\"]['bboxes'][0])\n",
        "\n",
        "# Crop the image\n",
        "cropped_img = image2.crop((left-10, top, right+10, bottom))"
      ],
      "metadata": {
        "id": "XYij_eD8p1fI"
      },
      "execution_count": null,
      "outputs": []
    },
    {
      "cell_type": "code",
      "source": [
        "cropped_img"
      ],
      "metadata": {
        "id": "CQReHxU2sJCP"
      },
      "execution_count": null,
      "outputs": []
    },
    {
      "cell_type": "code",
      "source": [],
      "metadata": {
        "id": "MMbzYa8esI-r"
      },
      "execution_count": null,
      "outputs": []
    }
  ]
}